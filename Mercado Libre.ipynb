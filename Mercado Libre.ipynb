{
 "cells": [
  {
   "cell_type": "code",
   "execution_count": 1,
   "id": "b0c955b1",
   "metadata": {},
   "outputs": [
    {
     "name": "stderr",
     "output_type": "stream",
     "text": [
      "<ipython-input-1-1578cbcd3295>:23: DeprecationWarning: executable_path has been deprecated, please pass in a Service object\n",
      "  driver = webdriver.Chrome(r'C:\\Users\\dylan\\Downloads\\Programas\\chromedriver.exe',options=options)\n"
     ]
    }
   ],
   "source": [
    "import sys\n",
    "sys.path.insert(0,r'C:\\Users\\dylan\\Downloads\\Programas')\n",
    "from selenium import webdriver\n",
    "from selenium.webdriver.support.ui import Select\n",
    "from selenium.webdriver.common.keys import Keys\n",
    "from selenium.webdriver.support.ui import WebDriverWait \n",
    "from selenium.webdriver.common.by import By\n",
    "from selenium.webdriver.support import expected_conditions as EC\n",
    "from PIL import Image\n",
    "\n",
    "#Guardo el screenshot para ver resultados\n",
    "def savescreen():\n",
    "    driver.save_screenshot('Meli.png')\n",
    "    screenshot = Image.open('Meli.png')\n",
    "    screenshot.show()\n",
    "\n",
    "options = webdriver.ChromeOptions() # Usamos chrome, se podria usar otro.\n",
    "options.add_argument('--headless') # Chromium sin interfaz grafica\n",
    "options.add_argument('--no-sandbox') # Seguridad\n",
    "options.add_argument('--disable-dev-shm-usage') # configuracion de linux\n",
    "options.add_argument('--user-agent=\"\"Mozilla/5.0 (Windows NT 10.0; Win64; x64) AppleWebKit/537.36 (KHTML, like Gecko) Chrome/74.0.3729.157 Safari/537.36\"\"') # user agent\n",
    "\n",
    "driver = webdriver.Chrome(r'C:\\Users\\dylan\\Downloads\\Programas\\chromedriver.exe',options=options)\n",
    "#Esperar 10 segundos a que cargue la pagina\n",
    "driver.implicitly_wait(10)"
   ]
  },
  {
   "cell_type": "code",
   "execution_count": 2,
   "id": "f7e23f53",
   "metadata": {
    "scrolled": true
   },
   "outputs": [],
   "source": [
    "#Obtengo la url\n",
    "url = 'https://www.mercadolibre.com.ar/#from=homecom'\n",
    "driver.get(url)"
   ]
  },
  {
   "cell_type": "code",
   "execution_count": 56,
   "id": "370b5d6a",
   "metadata": {
    "scrolled": true
   },
   "outputs": [
    {
     "name": "stderr",
     "output_type": "stream",
     "text": [
      "<ipython-input-56-74becb997ab5>:2: DeprecationWarning: find_element_by_xpath is deprecated. Please use find_element(by=By.XPATH, value=xpath) instead\n",
      "  driver.find_element_by_xpath('/html/body/div[2]/div[1]/div[2]/button[1]').click()\n"
     ]
    }
   ],
   "source": [
    "#Boton para aceptar cookies. Busco el xpath del 'Entendido' y le doy click\n",
    "driver.find_element_by_xpath('/html/body/div[2]/div[1]/div[2]/button[1]').click()"
   ]
  },
  {
   "cell_type": "code",
   "execution_count": 57,
   "id": "02b5252f",
   "metadata": {},
   "outputs": [
    {
     "name": "stderr",
     "output_type": "stream",
     "text": [
      "<ipython-input-57-1c998c1d2d1e>:2: DeprecationWarning: find_element_by_xpath is deprecated. Please use find_element(by=By.XPATH, value=xpath) instead\n",
      "  input = driver.find_element_by_xpath('/html/body/header/div/form/input')\n"
     ]
    }
   ],
   "source": [
    "#Obtengo el input para buscar el producto deseable\n",
    "input = driver.find_element_by_xpath('/html/body/header/div/form/input')\n",
    "#Buscador: envio lo que quiero buscar y doy enter\n",
    "producto = 'billetera'\n",
    "input.send_keys(producto + Keys.ENTER)"
   ]
  },
  {
   "cell_type": "code",
   "execution_count": 58,
   "id": "d7ba0a2d",
   "metadata": {
    "scrolled": true
   },
   "outputs": [
    {
     "data": {
      "text/plain": [
       "[8490.0,\n",
       " 6690.0,\n",
       " 6450.0,\n",
       " 8490.0,\n",
       " 5990.0,\n",
       " 6690.0,\n",
       " 6021.0,\n",
       " 5990.0,\n",
       " 5470.0,\n",
       " 4939.0,\n",
       " 6489.0,\n",
       " 10999.0,\n",
       " 7965.0,\n",
       " 8612.0,\n",
       " 7210.0,\n",
       " 6649.0,\n",
       " 2980.0,\n",
       " 5990.0,\n",
       " 6990.0,\n",
       " 3099.0,\n",
       " 5899.0,\n",
       " 8513.0,\n",
       " 6399.0,\n",
       " 5548.0,\n",
       " 6990.0,\n",
       " 5990.0,\n",
       " 6990.0,\n",
       " 6450.0,\n",
       " 6599.0,\n",
       " 8950.0,\n",
       " 10250.0,\n",
       " 3280.0,\n",
       " 1999.0,\n",
       " 1399.0,\n",
       " 1999.0,\n",
       " 3699.0,\n",
       " 3099.0,\n",
       " 2670.0,\n",
       " 7535.0,\n",
       " 6782.0,\n",
       " 460.0,\n",
       " 8950.0,\n",
       " 6990.0,\n",
       " 3710.0,\n",
       " 3999.0,\n",
       " 4810.0,\n",
       " 3700.0,\n",
       " 2798.0,\n",
       " 2680.0,\n",
       " 4900.0,\n",
       " 4999.0,\n",
       " 5069.0,\n",
       " 8499.0,\n",
       " 7504.0,\n",
       " 1858.0,\n",
       " 2698.0,\n",
       " 4999.0,\n",
       " 8639.0,\n",
       " 5000.0,\n",
       " 5699.0,\n",
       " 4990.0,\n",
       " 8499.0,\n",
       " 7504.0,\n",
       " 2080.0,\n",
       " 1600.0,\n",
       " 998.0,\n",
       " 1165.0,\n",
       " 1491.0,\n",
       " 1165.0]"
      ]
     },
     "execution_count": 58,
     "metadata": {},
     "output_type": "execute_result"
    }
   ],
   "source": [
    "#Obtener el precio de cada producto de una sola pagina\n",
    "precios = WebDriverWait(driver, 20).until(EC.visibility_of_all_elements_located((By.CLASS_NAME, \"price-tag-fraction\")))\n",
    "precios = [float(i.text.replace('.','')) for i in precios]\n",
    "precios"
   ]
  },
  {
   "cell_type": "code",
   "execution_count": 59,
   "id": "dc20fc80",
   "metadata": {
    "scrolled": true
   },
   "outputs": [
    {
     "name": "stderr",
     "output_type": "stream",
     "text": [
      "<ipython-input-59-eb9df2572b55>:2: DeprecationWarning: find_element_by_xpath is deprecated. Please use find_element(by=By.XPATH, value=xpath) instead\n",
      "  pag_max = driver.find_element_by_xpath('/html/body/main/div/div[2]/section/div[8]/ul/li[2]')\n"
     ]
    },
    {
     "data": {
      "text/plain": [
       "42"
      ]
     },
     "execution_count": 59,
     "metadata": {},
     "output_type": "execute_result"
    }
   ],
   "source": [
    "#Numero de paginas disponibles para ese producto\n",
    "pag_max = driver.find_element_by_xpath('/html/body/main/div/div[2]/section/div[8]/ul/li[2]')\n",
    "pag_max = int(pag_max.text.replace('de ', ''))\n",
    "pag_max"
   ]
  },
  {
   "cell_type": "code",
   "execution_count": 60,
   "id": "17acd937",
   "metadata": {},
   "outputs": [
    {
     "name": "stderr",
     "output_type": "stream",
     "text": [
      "<ipython-input-60-3d42f8d3e337>:2: DeprecationWarning: find_element_by_xpath is deprecated. Please use find_element(by=By.XPATH, value=xpath) instead\n",
      "  driver.find_element_by_xpath('//*[text()=\"Siguiente\"]').click()\n"
     ]
    }
   ],
   "source": [
    "#Clickeo en siguiente pagina\n",
    "driver.find_element_by_xpath('//*[text()=\"Siguiente\"]').click()\n",
    "#Chequeo\n",
    "savescreen()"
   ]
  },
  {
   "cell_type": "markdown",
   "id": "7bdfd569",
   "metadata": {},
   "source": [
    "### Limpieza"
   ]
  },
  {
   "cell_type": "code",
   "execution_count": 74,
   "id": "4597dabc",
   "metadata": {},
   "outputs": [],
   "source": [
    "driver.close()"
   ]
  },
  {
   "cell_type": "code",
   "execution_count": 77,
   "id": "7fed74a9",
   "metadata": {
    "scrolled": false
   },
   "outputs": [
    {
     "name": "stderr",
     "output_type": "stream",
     "text": [
      "<ipython-input-77-93e167e38385>:24: DeprecationWarning: executable_path has been deprecated, please pass in a Service object\n",
      "  driver = webdriver.Chrome(r'C:\\Users\\dylan\\Downloads\\Programas\\chromedriver.exe',options=options)\n",
      "<ipython-input-77-93e167e38385>:34: DeprecationWarning: find_element_by_xpath is deprecated. Please use find_element(by=By.XPATH, value=xpath) instead\n",
      "  driver.find_element_by_xpath('//*[text()=\"Entendido\"]').click()\n",
      "<ipython-input-77-93e167e38385>:37: DeprecationWarning: find_element_by_xpath is deprecated. Please use find_element(by=By.XPATH, value=xpath) instead\n",
      "  input = driver.find_element_by_xpath('/html/body/header/div/form/input')\n",
      "<ipython-input-77-93e167e38385>:43: DeprecationWarning: find_element_by_xpath is deprecated. Please use find_element(by=By.XPATH, value=xpath) instead\n",
      "  pag_max = driver.find_element_by_xpath('/html/body/main/div/div[2]/section/div[8]/ul/li[2]')\n",
      "<ipython-input-77-93e167e38385>:58: DeprecationWarning: find_element_by_xpath is deprecated. Please use find_element(by=By.XPATH, value=xpath) instead\n",
      "  driver.find_element_by_xpath('//*[text()=\"Siguiente\"]').click()\n"
     ]
    }
   ],
   "source": [
    "#Librerias y funciones utiles\n",
    "import pandas as pd\n",
    "import numpy as np\n",
    "import sys\n",
    "sys.path.insert(0,r'C:\\Users\\dylan\\Downloads\\Programas')\n",
    "from selenium import webdriver\n",
    "from selenium.webdriver.support.ui import Select\n",
    "from selenium.webdriver.common.keys import Keys\n",
    "from selenium.webdriver.support.ui import WebDriverWait \n",
    "from selenium.webdriver.common.by import By\n",
    "from selenium.webdriver.support import expected_conditions as EC\n",
    "from PIL import Image\n",
    "\n",
    "#Guardo el screenshot para ver resultados\n",
    "def savescreen():\n",
    "    driver.save_screenshot('Meli.png')\n",
    "    screenshot = Image.open('Meli.png')\n",
    "    screenshot.show()\n",
    "\n",
    "options = webdriver.ChromeOptions() # Usamos chrome, se podria usar otro.\n",
    "options.add_argument('--headless') # Chromium sin interfaz grafica\n",
    "options.add_argument('--no-sandbox') # Seguridad\n",
    "options.add_argument('--disable-dev-shm-usage') # configuracion de linux\n",
    "options.add_argument('--user-agent=\"\"Mozilla/5.0 (Windows NT 10.0; Win64; x64) AppleWebKit/537.36 (KHTML, like Gecko) Chrome/74.0.3729.157 Safari/537.36\"\"') # user agent\n",
    "\n",
    "driver = webdriver.Chrome(r'C:\\Users\\dylan\\Downloads\\Programas\\chromedriver.exe',options=options)\n",
    "#Esperar 5 segundos a que cargue la pagina\n",
    "driver.implicitly_wait(5)\n",
    "\n",
    "#Obtengo la url\n",
    "url = 'https://www.mercadolibre.com.ar/#from=homecom'\n",
    "driver.get(url)\n",
    "\n",
    "#Boton para aceptar cookies. Busco el xpath del 'Entendido' y le doy click\n",
    "driver.find_element_by_xpath('//*[text()=\"Entendido\"]').click()\n",
    "\n",
    "#Obtengo el input para buscar el producto deseable\n",
    "input = driver.find_element_by_xpath('/html/body/header/div/form/input')\n",
    "#Buscador: envio lo que quiero buscar y doy enter\n",
    "producto = 'billetera'\n",
    "input.send_keys(producto + Keys.ENTER)\n",
    "\n",
    "#Numero de paginas disponibles para ese producto\n",
    "pag_max = driver.find_element_by_xpath('/html/body/main/div/div[2]/section/div[8]/ul/li[2]')\n",
    "pag_max = int(pag_max.text.replace('de ', ''))\n",
    "\n",
    "#Hago el loop para todas las paginas\n",
    "precios_ls = []\n",
    "for p in range(pag_max-1):\n",
    "    #Obtener el precio de cada producto de una sola pagina\n",
    "    precios = WebDriverWait(driver, 5).until(EC.visibility_of_all_elements_located((By.CLASS_NAME, \"price-tag-fraction\")))\n",
    "    precios = [float(i.text.replace('.','')) for i in precios]\n",
    "    \n",
    "    #Concateno la lista de precios\n",
    "    precios_ls = precios_ls + precios\n",
    "    \n",
    "    try:\n",
    "        #Clickeo en siguiente pagina\n",
    "        driver.find_element_by_xpath('//*[text()=\"Siguiente\"]').click()\n",
    "    except:\n",
    "        print(p, 'Finish')"
   ]
  },
  {
   "cell_type": "code",
   "execution_count": 9,
   "id": "24bfc4bc",
   "metadata": {},
   "outputs": [],
   "source": [
    "cafe = {'Usuario': ['Dylan', 'Nati', 'Dylan', 'Nati'],\n",
    "'Cafes por dia': [1, 3, 4, 2],\n",
    "'Dias': [1, 1, 2, 2]}"
   ]
  },
  {
   "cell_type": "code",
   "execution_count": null,
   "id": "868b9205",
   "metadata": {},
   "outputs": [],
   "source": []
  },
  {
   "cell_type": "code",
   "execution_count": 18,
   "id": "ccc49869",
   "metadata": {},
   "outputs": [
    {
     "data": {
      "text/html": [
       "<div>\n",
       "<style scoped>\n",
       "    .dataframe tbody tr th:only-of-type {\n",
       "        vertical-align: middle;\n",
       "    }\n",
       "\n",
       "    .dataframe tbody tr th {\n",
       "        vertical-align: top;\n",
       "    }\n",
       "\n",
       "    .dataframe thead th {\n",
       "        text-align: right;\n",
       "    }\n",
       "</style>\n",
       "<table border=\"1\" class=\"dataframe\">\n",
       "  <thead>\n",
       "    <tr style=\"text-align: right;\">\n",
       "      <th></th>\n",
       "      <th>Cafes por dia</th>\n",
       "      <th>Dias</th>\n",
       "    </tr>\n",
       "    <tr>\n",
       "      <th>Usuario</th>\n",
       "      <th></th>\n",
       "      <th></th>\n",
       "    </tr>\n",
       "  </thead>\n",
       "  <tbody>\n",
       "    <tr>\n",
       "      <th>Dylan</th>\n",
       "      <td>1</td>\n",
       "      <td>1</td>\n",
       "    </tr>\n",
       "    <tr>\n",
       "      <th>Nati</th>\n",
       "      <td>3</td>\n",
       "      <td>1</td>\n",
       "    </tr>\n",
       "    <tr>\n",
       "      <th>Dylan</th>\n",
       "      <td>4</td>\n",
       "      <td>2</td>\n",
       "    </tr>\n",
       "    <tr>\n",
       "      <th>Nati</th>\n",
       "      <td>2</td>\n",
       "      <td>2</td>\n",
       "    </tr>\n",
       "  </tbody>\n",
       "</table>\n",
       "</div>"
      ],
      "text/plain": [
       "         Cafes por dia  Dias\n",
       "Usuario                     \n",
       "Dylan                1     1\n",
       "Nati                 3     1\n",
       "Dylan                4     2\n",
       "Nati                 2     2"
      ]
     },
     "execution_count": 18,
     "metadata": {},
     "output_type": "execute_result"
    }
   ],
   "source": [
    "import pandas as pd\n",
    "cafe_1 = pd.DataFrame(cafe)\n",
    "cafe_1.set_index('Usuario', inplace = True)\n",
    "cafe_1"
   ]
  },
  {
   "cell_type": "code",
   "execution_count": 85,
   "id": "d72935f9",
   "metadata": {},
   "outputs": [
    {
     "data": {
      "text/html": [
       "<div>\n",
       "<style scoped>\n",
       "    .dataframe tbody tr th:only-of-type {\n",
       "        vertical-align: middle;\n",
       "    }\n",
       "\n",
       "    .dataframe tbody tr th {\n",
       "        vertical-align: top;\n",
       "    }\n",
       "\n",
       "    .dataframe thead th {\n",
       "        text-align: right;\n",
       "    }\n",
       "</style>\n",
       "<table border=\"1\" class=\"dataframe\">\n",
       "  <thead>\n",
       "    <tr style=\"text-align: right;\">\n",
       "      <th></th>\n",
       "      <th>0</th>\n",
       "    </tr>\n",
       "  </thead>\n",
       "  <tbody>\n",
       "    <tr>\n",
       "      <th>count</th>\n",
       "      <td>2348.000000</td>\n",
       "    </tr>\n",
       "    <tr>\n",
       "      <th>mean</th>\n",
       "      <td>4104.738927</td>\n",
       "    </tr>\n",
       "    <tr>\n",
       "      <th>std</th>\n",
       "      <td>3037.380701</td>\n",
       "    </tr>\n",
       "    <tr>\n",
       "      <th>min</th>\n",
       "      <td>290.000000</td>\n",
       "    </tr>\n",
       "    <tr>\n",
       "      <th>25%</th>\n",
       "      <td>2170.000000</td>\n",
       "    </tr>\n",
       "    <tr>\n",
       "      <th>50%</th>\n",
       "      <td>3099.000000</td>\n",
       "    </tr>\n",
       "    <tr>\n",
       "      <th>75%</th>\n",
       "      <td>5294.000000</td>\n",
       "    </tr>\n",
       "    <tr>\n",
       "      <th>max</th>\n",
       "      <td>32970.000000</td>\n",
       "    </tr>\n",
       "  </tbody>\n",
       "</table>\n",
       "</div>"
      ],
      "text/plain": [
       "                  0\n",
       "count   2348.000000\n",
       "mean    4104.738927\n",
       "std     3037.380701\n",
       "min      290.000000\n",
       "25%     2170.000000\n",
       "50%     3099.000000\n",
       "75%     5294.000000\n",
       "max    32970.000000"
      ]
     },
     "execution_count": 85,
     "metadata": {},
     "output_type": "execute_result"
    }
   ],
   "source": [
    "df_describe = pd.DataFrame(precios_ls)\n",
    "df_describe.describe()"
   ]
  },
  {
   "cell_type": "markdown",
   "id": "b40a4507",
   "metadata": {},
   "source": [
    "### Funcion"
   ]
  },
  {
   "cell_type": "code",
   "execution_count": 5,
   "id": "4de9b41d",
   "metadata": {},
   "outputs": [],
   "source": [
    "def precios_MELI(producto):\n",
    "    #Librerias y funciones utiles\n",
    "    import pandas as pd\n",
    "    import numpy as np\n",
    "    import sys\n",
    "    sys.path.insert(0,r'C:\\Users\\dylan\\Downloads\\Programas')\n",
    "    from selenium import webdriver\n",
    "    from selenium.webdriver.support.ui import Select\n",
    "    from selenium.webdriver.common.keys import Keys\n",
    "    from selenium.webdriver.support.ui import WebDriverWait \n",
    "    from selenium.webdriver.common.by import By\n",
    "    from selenium.webdriver.support import expected_conditions as EC\n",
    "    from PIL import Image\n",
    "    \n",
    "    import warnings\n",
    "    warnings.filterwarnings(\"ignore\")\n",
    "    import matplotlib.pyplot as plt\n",
    "\n",
    "    #Guardo el screenshot para ver resultados\n",
    "    def savescreen():\n",
    "        driver.save_screenshot('Meli.png')\n",
    "        screenshot = Image.open('Meli.png')\n",
    "        screenshot.show()\n",
    "\n",
    "    options = webdriver.ChromeOptions() # Usamos chrome, se podria usar otro.\n",
    "    options.add_argument('--headless') # Chromium sin interfaz grafica\n",
    "    options.add_argument('--no-sandbox') # Seguridad\n",
    "    options.add_argument('--disable-dev-shm-usage') # configuracion de linux\n",
    "    options.add_argument('--user-agent=\"\"Mozilla/5.0 (Windows NT 10.0; Win64; x64) AppleWebKit/537.36 (KHTML, like Gecko) Chrome/74.0.3729.157 Safari/537.36\"\"') # user agent\n",
    "\n",
    "    driver = webdriver.Chrome(r'C:\\Users\\dylan\\Downloads\\Programas\\chromedriver.exe',options=options)\n",
    "    #Esperar 5 segundos a que cargue la pagina\n",
    "    driver.implicitly_wait(5)\n",
    "\n",
    "    #Obtengo la url\n",
    "    url = 'https://www.mercadolibre.com.ar/#from=homecom'\n",
    "    driver.get(url)\n",
    "\n",
    "    #Boton para aceptar cookies. Busco el xpath del 'Entendido' y le doy click\n",
    "    driver.find_element_by_xpath('//*[text()=\"Entendido\"]').click()\n",
    "\n",
    "    #Obtengo el input para buscar el producto deseable\n",
    "    input = driver.find_element_by_xpath('/html/body/header/div/form/input')\n",
    "    #Buscador: envio lo que quiero buscar y doy enter\n",
    "    input.send_keys(producto + Keys.ENTER)\n",
    "\n",
    "    #Numero de paginas disponibles para ese producto\n",
    "    pag_max = driver.find_element_by_xpath('/html/body/main/div/div[2]/section/div[8]/ul/li[2]')\n",
    "    pag_max = int(pag_max.text.replace('de ', ''))\n",
    "\n",
    "    #Hago el loop para todas las paginas\n",
    "    precios_ls = []\n",
    "    for p in range(pag_max-1):\n",
    "        #Obtener el precio de cada producto de una sola pagina\n",
    "        precios = WebDriverWait(driver, 5).until(EC.visibility_of_all_elements_located((By.CLASS_NAME, \"price-tag-fraction\")))\n",
    "        precios = [float(i.text.replace('.','')) for i in precios]\n",
    "\n",
    "        #Concateno la lista de precios\n",
    "        precios_ls = precios + precios_ls\n",
    "\n",
    "        try:\n",
    "            #Clickeo en siguiente pagina\n",
    "            driver.find_element_by_xpath('//*[text()=\"Siguiente\"]').click()\n",
    "        except:\n",
    "            print(p, 'Finish')\n",
    "        \n",
    "    df_describe = pd.DataFrame(precios_ls)\n",
    "    plt.hist(precios_ls, bins = round(len(precios_ls)/10))\n",
    "    plt.show()\n",
    "    return(df_describe.describe())"
   ]
  },
  {
   "cell_type": "code",
   "execution_count": 6,
   "id": "c1ff2077",
   "metadata": {},
   "outputs": [
    {
     "data": {
      "image/png": "[encoded data removed]",
      "text/plain": [
       "<Figure size 432x288 with 1 Axes>"
      ]
     },
     "metadata": {
      "needs_background": "light"
     },
     "output_type": "display_data"
    },
    {
     "data": {
      "text/html": [
       "<div>\n",
       "<style scoped>\n",
       "    .dataframe tbody tr th:only-of-type {\n",
       "        vertical-align: middle;\n",
       "    }\n",
       "\n",
       "    .dataframe tbody tr th {\n",
       "        vertical-align: top;\n",
       "    }\n",
       "\n",
       "    .dataframe thead th {\n",
       "        text-align: right;\n",
       "    }\n",
       "</style>\n",
       "<table border=\"1\" class=\"dataframe\">\n",
       "  <thead>\n",
       "    <tr style=\"text-align: right;\">\n",
       "      <th></th>\n",
       "      <th>0</th>\n",
       "    </tr>\n",
       "  </thead>\n",
       "  <tbody>\n",
       "    <tr>\n",
       "      <th>count</th>\n",
       "      <td>1571.000000</td>\n",
       "    </tr>\n",
       "    <tr>\n",
       "      <th>mean</th>\n",
       "      <td>74672.280076</td>\n",
       "    </tr>\n",
       "    <tr>\n",
       "      <th>std</th>\n",
       "      <td>68732.596197</td>\n",
       "    </tr>\n",
       "    <tr>\n",
       "      <th>min</th>\n",
       "      <td>200.000000</td>\n",
       "    </tr>\n",
       "    <tr>\n",
       "      <th>25%</th>\n",
       "      <td>30000.000000</td>\n",
       "    </tr>\n",
       "    <tr>\n",
       "      <th>50%</th>\n",
       "      <td>60000.000000</td>\n",
       "    </tr>\n",
       "    <tr>\n",
       "      <th>75%</th>\n",
       "      <td>104999.000000</td>\n",
       "    </tr>\n",
       "    <tr>\n",
       "      <th>max</th>\n",
       "      <td>672248.000000</td>\n",
       "    </tr>\n",
       "  </tbody>\n",
       "</table>\n",
       "</div>"
      ],
      "text/plain": [
       "                   0\n",
       "count    1571.000000\n",
       "mean    74672.280076\n",
       "std     68732.596197\n",
       "min       200.000000\n",
       "25%     30000.000000\n",
       "50%     60000.000000\n",
       "75%    104999.000000\n",
       "max    672248.000000"
      ]
     },
     "execution_count": 6,
     "metadata": {},
     "output_type": "execute_result"
    }
   ],
   "source": [
    "precios_MELI('apple watch')"
   ]
  },
  {
   "cell_type": "code",
   "execution_count": null,
   "id": "245fcdb3",
   "metadata": {},
   "outputs": [],
   "source": []
  }
 ],
 "metadata": {
  "kernelspec": {
   "display_name": "Python 3",
   "language": "python",
   "name": "python3"
  },
  "language_info": {
   "codemirror_mode": {
    "name": "ipython",
    "version": 3
   },
   "file_extension": ".py",
   "mimetype": "text/x-python",
   "name": "python",
   "nbconvert_exporter": "python",
   "pygments_lexer": "ipython3",
   "version": "3.8.8"
  }
 },
 "nbformat": 4,
 "nbformat_minor": 5
}
